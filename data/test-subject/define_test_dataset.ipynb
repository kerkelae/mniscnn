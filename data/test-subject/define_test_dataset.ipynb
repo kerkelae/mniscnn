{
 "cells": [
  {
   "cell_type": "code",
   "execution_count": null,
   "id": "1a35e068",
   "metadata": {},
   "outputs": [],
   "source": [
    "import sys\n",
    "\n",
    "import nibabel as nib\n",
    "import numpy as np\n",
    "import torch\n",
    "\n",
    "from mniscnn import (\n",
    "    compartment_model_simulation,\n",
    "    isft,\n",
    "    l_max,\n",
    "    n_coeffs,\n",
    "    sft,\n",
    "    sh,\n",
    ")\n",
    "\n",
    "device = torch.device(\"cuda\" if torch.cuda.is_available() else \"cpu\")\n",
    "print(device)"
   ]
  },
  {
   "cell_type": "code",
   "execution_count": null,
   "id": "d95721e7",
   "metadata": {},
   "outputs": [],
   "source": [
    "# Define acquisition protocol\n",
    "\n",
    "bvals = torch.tensor(np.loadtxt(\"dwi.bval\") / 1e3)\n",
    "bvecs = torch.tensor(np.loadtxt(\"dwi.bvec\").T)\n",
    "\n",
    "idx = bvals > 0\n",
    "bvals = bvals[idx]\n",
    "bvecs = bvecs[idx]\n",
    "\n",
    "bs = torch.unique(bvals)\n",
    "n_shells = len(bs)\n",
    "shell_idx_list = [np.where(bvals == b)[0] for b in bs]\n",
    "bvecs_list = [bvecs[bvals == b] for b in bs]\n",
    "\n",
    "bvecs_sft_list = []\n",
    "bvecs_isft_list = []\n",
    "for bvecs in bvecs_list:\n",
    "    thetas = np.arccos(bvecs[:, 2])\n",
    "    phis = np.arctan2(bvecs[:, 1], bvecs[:, 0]) + np.pi\n",
    "    bvecs_isft = np.zeros((len(bvecs), n_coeffs))\n",
    "    for l in range(0, l_max + 1, 2):\n",
    "        for m in range(-l, l + 1):\n",
    "            bvecs_isft[:, int(0.5 * l * (l + 1) + m)] = sh(l, m, thetas, phis)\n",
    "    bvecs_sft = np.linalg.inv(bvecs_isft.T @ bvecs_isft) @ bvecs_isft.T\n",
    "    bvecs_sft_list.append(torch.tensor(bvecs_sft).float())\n",
    "    bvecs_isft_list.append(torch.tensor(bvecs_isft).float())"
   ]
  },
  {
   "cell_type": "code",
   "execution_count": null,
   "id": "803a46fe",
   "metadata": {},
   "outputs": [],
   "source": [
    "# Define test dataset\n",
    "\n",
    "SNR = 30\n",
    "n_test = int(1e6)\n",
    "torch.random.manual_seed(666)\n",
    "test_ds = torch.rand(n_test) * 3\n",
    "test_fs = torch.rand(n_test)\n",
    "test_odfs_sh = torch.tensor(np.loadtxt(\"odfs_sh.txt\")).float()\n",
    "np.random.seed(666)\n",
    "test_odfs_sh = test_odfs_sh[np.random.choice(len(test_odfs_sh), n_test)]\n",
    "test_targets = torch.vstack((test_ds / 3, test_fs)).T\n",
    "np.savetxt(\"test_targets.txt\", test_targets)"
   ]
  },
  {
   "cell_type": "code",
   "execution_count": null,
   "id": "91569163",
   "metadata": {},
   "outputs": [],
   "source": [
    "# Simulate signals\n",
    "\n",
    "signals = torch.zeros(n_test, n_shells, 60)\n",
    "for i in range(0, n_test, int(1e4)):\n",
    "\n",
    "    sys.stdout.write(f\"\\r{int(100 * (i + 1) / n_test)}%\")\n",
    "    sys.stdout.flush()\n",
    "\n",
    "    idx = torch.arange(i, i + int(1e4))\n",
    "\n",
    "    batch_ads = torch.vstack((test_ds[idx], test_ds[idx])).T\n",
    "    batch_rds = torch.vstack(\n",
    "        (\n",
    "            torch.zeros(len(idx)),\n",
    "            (1 - test_fs[idx]) * test_ds[idx],\n",
    "        )\n",
    "    ).T\n",
    "    batch_fs = torch.vstack((test_fs[idx], 1 - test_fs[idx])).T\n",
    "    batch_odfs = test_odfs_sh[idx]\n",
    "\n",
    "    for j, b in enumerate(bs):\n",
    "        signals[idx, j, :] = (\n",
    "            compartment_model_simulation(\n",
    "                b,\n",
    "                bvecs_isft_list[j],\n",
    "                batch_ads,\n",
    "                batch_rds,\n",
    "                batch_fs,\n",
    "                batch_odfs,\n",
    "                \"linear\",\n",
    "                device,\n",
    "            )\n",
    "            .cpu()\n",
    "            .squeeze(-1)\n",
    "        )"
   ]
  },
  {
   "cell_type": "code",
   "execution_count": null,
   "id": "05e661b5",
   "metadata": {},
   "outputs": [],
   "source": [
    "# Reorganize data and save in a nifti file\n",
    "\n",
    "bvals = torch.tensor(np.loadtxt(\"dwi.bval\") / 1e3)\n",
    "bvecs = torch.tensor(np.loadtxt(\"dwi.bvec\").T)\n",
    "\n",
    "test_signals = torch.zeros(n_test, len(bvals))\n",
    "test_signals[:, np.where(bvals == 0)[0]] = 1\n",
    "test_signals[:, np.where(bvals == 1)[0]] = signals[:, 0, :]\n",
    "test_signals[:, np.where(bvals == 2.2)[0]] = signals[:, 1, ::]\n",
    "\n",
    "test_signals += torch.normal(\n",
    "    mean=torch.zeros(test_signals.size()),\n",
    "    std=torch.ones(test_signals.size()) / SNR,\n",
    ")\n",
    "\n",
    "nib.save(\n",
    "    nib.Nifti1Image(test_signals.numpy().reshape(100, 100, 100, len(bvals)), np.eye(4)),\n",
    "    \"test_signals.nii.gz\",\n",
    ")"
   ]
  }
 ],
 "metadata": {
  "kernelspec": {
   "display_name": "Python 3.10.4 ('mniscnn')",
   "language": "python",
   "name": "python3"
  },
  "language_info": {
   "codemirror_mode": {
    "name": "ipython",
    "version": 3
   },
   "file_extension": ".py",
   "mimetype": "text/x-python",
   "name": "python",
   "nbconvert_exporter": "python",
   "pygments_lexer": "ipython3",
   "version": "3.10.4"
  },
  "vscode": {
   "interpreter": {
    "hash": "514a7911075f45c8946c47ae5e283ff2ced02d023bf7f67e35992e26e178eb6d"
   }
  }
 },
 "nbformat": 4,
 "nbformat_minor": 5
}
